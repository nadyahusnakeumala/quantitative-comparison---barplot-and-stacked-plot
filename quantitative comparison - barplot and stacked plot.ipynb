{
 "cells": [
  {
   "cell_type": "code",
   "execution_count": 88,
   "id": "73b09374",
   "metadata": {},
   "outputs": [
    {
     "data": {
      "text/html": [
       "<div>\n",
       "<style scoped>\n",
       "    .dataframe tbody tr th:only-of-type {\n",
       "        vertical-align: middle;\n",
       "    }\n",
       "\n",
       "    .dataframe tbody tr th {\n",
       "        vertical-align: top;\n",
       "    }\n",
       "\n",
       "    .dataframe thead th {\n",
       "        text-align: right;\n",
       "    }\n",
       "</style>\n",
       "<table border=\"1\" class=\"dataframe\">\n",
       "  <thead>\n",
       "    <tr style=\"text-align: right;\">\n",
       "      <th></th>\n",
       "      <th>Rank</th>\n",
       "      <th>Name</th>\n",
       "      <th>Platform</th>\n",
       "      <th>Year</th>\n",
       "      <th>Genre</th>\n",
       "      <th>Publisher</th>\n",
       "      <th>NA_Sales</th>\n",
       "      <th>EU_Sales</th>\n",
       "      <th>JP_Sales</th>\n",
       "      <th>Other_Sales</th>\n",
       "      <th>Global_Sales</th>\n",
       "    </tr>\n",
       "  </thead>\n",
       "  <tbody>\n",
       "    <tr>\n",
       "      <th>0</th>\n",
       "      <td>1</td>\n",
       "      <td>Wii Sports</td>\n",
       "      <td>Wii</td>\n",
       "      <td>2006.0</td>\n",
       "      <td>Sports</td>\n",
       "      <td>Nintendo</td>\n",
       "      <td>41.49</td>\n",
       "      <td>29.02</td>\n",
       "      <td>3.77</td>\n",
       "      <td>8.46</td>\n",
       "      <td>82.74</td>\n",
       "    </tr>\n",
       "    <tr>\n",
       "      <th>1</th>\n",
       "      <td>2</td>\n",
       "      <td>Super Mario Bros.</td>\n",
       "      <td>NES</td>\n",
       "      <td>1985.0</td>\n",
       "      <td>Platform</td>\n",
       "      <td>Nintendo</td>\n",
       "      <td>29.08</td>\n",
       "      <td>3.58</td>\n",
       "      <td>6.81</td>\n",
       "      <td>0.77</td>\n",
       "      <td>40.24</td>\n",
       "    </tr>\n",
       "    <tr>\n",
       "      <th>2</th>\n",
       "      <td>3</td>\n",
       "      <td>Mario Kart Wii</td>\n",
       "      <td>Wii</td>\n",
       "      <td>2008.0</td>\n",
       "      <td>Racing</td>\n",
       "      <td>Nintendo</td>\n",
       "      <td>15.85</td>\n",
       "      <td>12.88</td>\n",
       "      <td>3.79</td>\n",
       "      <td>3.31</td>\n",
       "      <td>35.82</td>\n",
       "    </tr>\n",
       "    <tr>\n",
       "      <th>3</th>\n",
       "      <td>4</td>\n",
       "      <td>Wii Sports Resort</td>\n",
       "      <td>Wii</td>\n",
       "      <td>2009.0</td>\n",
       "      <td>Sports</td>\n",
       "      <td>Nintendo</td>\n",
       "      <td>15.75</td>\n",
       "      <td>11.01</td>\n",
       "      <td>3.28</td>\n",
       "      <td>2.96</td>\n",
       "      <td>33.00</td>\n",
       "    </tr>\n",
       "    <tr>\n",
       "      <th>4</th>\n",
       "      <td>5</td>\n",
       "      <td>Pokemon Red/Pokemon Blue</td>\n",
       "      <td>GB</td>\n",
       "      <td>1996.0</td>\n",
       "      <td>Role-Playing</td>\n",
       "      <td>Nintendo</td>\n",
       "      <td>11.27</td>\n",
       "      <td>8.89</td>\n",
       "      <td>10.22</td>\n",
       "      <td>1.00</td>\n",
       "      <td>31.37</td>\n",
       "    </tr>\n",
       "  </tbody>\n",
       "</table>\n",
       "</div>"
      ],
      "text/plain": [
       "   Rank                      Name Platform    Year         Genre Publisher  \\\n",
       "0     1                Wii Sports      Wii  2006.0        Sports  Nintendo   \n",
       "1     2         Super Mario Bros.      NES  1985.0      Platform  Nintendo   \n",
       "2     3            Mario Kart Wii      Wii  2008.0        Racing  Nintendo   \n",
       "3     4         Wii Sports Resort      Wii  2009.0        Sports  Nintendo   \n",
       "4     5  Pokemon Red/Pokemon Blue       GB  1996.0  Role-Playing  Nintendo   \n",
       "\n",
       "   NA_Sales  EU_Sales  JP_Sales  Other_Sales  Global_Sales  \n",
       "0     41.49     29.02      3.77         8.46         82.74  \n",
       "1     29.08      3.58      6.81         0.77         40.24  \n",
       "2     15.85     12.88      3.79         3.31         35.82  \n",
       "3     15.75     11.01      3.28         2.96         33.00  \n",
       "4     11.27      8.89     10.22         1.00         31.37  "
      ]
     },
     "execution_count": 88,
     "metadata": {},
     "output_type": "execute_result"
    }
   ],
   "source": [
    "import numpy as np\n",
    "import pandas as pd\n",
    "import matplotlib.pyplot as plt\n",
    "\n",
    "df = pd.read_csv('vgsales.csv')\n",
    "df.head()"
   ]
  },
  {
   "cell_type": "markdown",
   "id": "6d2c6845",
   "metadata": {},
   "source": [
    "Soal 1: Preparing Data\n",
    "Manipulasi data tersebut dengan menggroupkan berdasarkan Genre, kemudian ambil rata2 penjualan untuk setiap Region Kecuali Global_Sales berdasarkan kategori Genre."
   ]
  },
  {
   "cell_type": "code",
   "execution_count": 89,
   "id": "013017cf",
   "metadata": {},
   "outputs": [
    {
     "data": {
      "text/html": [
       "<div>\n",
       "<style scoped>\n",
       "    .dataframe tbody tr th:only-of-type {\n",
       "        vertical-align: middle;\n",
       "    }\n",
       "\n",
       "    .dataframe tbody tr th {\n",
       "        vertical-align: top;\n",
       "    }\n",
       "\n",
       "    .dataframe thead th {\n",
       "        text-align: right;\n",
       "    }\n",
       "</style>\n",
       "<table border=\"1\" class=\"dataframe\">\n",
       "  <thead>\n",
       "    <tr style=\"text-align: right;\">\n",
       "      <th></th>\n",
       "      <th>NA_Sales</th>\n",
       "      <th>EU_Sales</th>\n",
       "      <th>JP_Sales</th>\n",
       "      <th>Other_Sales</th>\n",
       "    </tr>\n",
       "    <tr>\n",
       "      <th>Genre</th>\n",
       "      <th></th>\n",
       "      <th></th>\n",
       "      <th></th>\n",
       "      <th></th>\n",
       "    </tr>\n",
       "  </thead>\n",
       "  <tbody>\n",
       "    <tr>\n",
       "      <th>Action</th>\n",
       "      <td>0.264726</td>\n",
       "      <td>0.158323</td>\n",
       "      <td>0.048236</td>\n",
       "      <td>0.056508</td>\n",
       "    </tr>\n",
       "    <tr>\n",
       "      <th>Adventure</th>\n",
       "      <td>0.082271</td>\n",
       "      <td>0.049868</td>\n",
       "      <td>0.040490</td>\n",
       "      <td>0.013072</td>\n",
       "    </tr>\n",
       "    <tr>\n",
       "      <th>Fighting</th>\n",
       "      <td>0.263667</td>\n",
       "      <td>0.119481</td>\n",
       "      <td>0.103007</td>\n",
       "      <td>0.043255</td>\n",
       "    </tr>\n",
       "    <tr>\n",
       "      <th>Misc</th>\n",
       "      <td>0.235906</td>\n",
       "      <td>0.124198</td>\n",
       "      <td>0.061967</td>\n",
       "      <td>0.043312</td>\n",
       "    </tr>\n",
       "    <tr>\n",
       "      <th>Platform</th>\n",
       "      <td>0.504571</td>\n",
       "      <td>0.227573</td>\n",
       "      <td>0.147596</td>\n",
       "      <td>0.058228</td>\n",
       "    </tr>\n",
       "    <tr>\n",
       "      <th>Puzzle</th>\n",
       "      <td>0.212680</td>\n",
       "      <td>0.087251</td>\n",
       "      <td>0.098471</td>\n",
       "      <td>0.021564</td>\n",
       "    </tr>\n",
       "    <tr>\n",
       "      <th>Racing</th>\n",
       "      <td>0.287766</td>\n",
       "      <td>0.190865</td>\n",
       "      <td>0.045388</td>\n",
       "      <td>0.061865</td>\n",
       "    </tr>\n",
       "    <tr>\n",
       "      <th>Role-Playing</th>\n",
       "      <td>0.219946</td>\n",
       "      <td>0.126384</td>\n",
       "      <td>0.236767</td>\n",
       "      <td>0.040060</td>\n",
       "    </tr>\n",
       "    <tr>\n",
       "      <th>Shooter</th>\n",
       "      <td>0.444733</td>\n",
       "      <td>0.239137</td>\n",
       "      <td>0.029221</td>\n",
       "      <td>0.078389</td>\n",
       "    </tr>\n",
       "    <tr>\n",
       "      <th>Simulation</th>\n",
       "      <td>0.211430</td>\n",
       "      <td>0.130773</td>\n",
       "      <td>0.073472</td>\n",
       "      <td>0.036355</td>\n",
       "    </tr>\n",
       "    <tr>\n",
       "      <th>Sports</th>\n",
       "      <td>0.291283</td>\n",
       "      <td>0.160635</td>\n",
       "      <td>0.057702</td>\n",
       "      <td>0.057532</td>\n",
       "    </tr>\n",
       "    <tr>\n",
       "      <th>Strategy</th>\n",
       "      <td>0.100881</td>\n",
       "      <td>0.066579</td>\n",
       "      <td>0.072628</td>\n",
       "      <td>0.016681</td>\n",
       "    </tr>\n",
       "  </tbody>\n",
       "</table>\n",
       "</div>"
      ],
      "text/plain": [
       "              NA_Sales  EU_Sales  JP_Sales  Other_Sales\n",
       "Genre                                                  \n",
       "Action        0.264726  0.158323  0.048236     0.056508\n",
       "Adventure     0.082271  0.049868  0.040490     0.013072\n",
       "Fighting      0.263667  0.119481  0.103007     0.043255\n",
       "Misc          0.235906  0.124198  0.061967     0.043312\n",
       "Platform      0.504571  0.227573  0.147596     0.058228\n",
       "Puzzle        0.212680  0.087251  0.098471     0.021564\n",
       "Racing        0.287766  0.190865  0.045388     0.061865\n",
       "Role-Playing  0.219946  0.126384  0.236767     0.040060\n",
       "Shooter       0.444733  0.239137  0.029221     0.078389\n",
       "Simulation    0.211430  0.130773  0.073472     0.036355\n",
       "Sports        0.291283  0.160635  0.057702     0.057532\n",
       "Strategy      0.100881  0.066579  0.072628     0.016681"
      ]
     },
     "execution_count": 89,
     "metadata": {},
     "output_type": "execute_result"
    }
   ],
   "source": [
    "df.groupby('Genre')[['NA_Sales','EU_Sales','JP_Sales','Other_Sales']].mean()\n"
   ]
  },
  {
   "cell_type": "markdown",
   "id": "d3d2e80d",
   "metadata": {},
   "source": [
    "Soal 2: Perbandingan Kuantitatif Barplot - Grouping Visualisasi Dengan Barplot\n",
    "Visualisasikan gambar yang tadi kita manipulasi, untuk menghasilkan visualisasi seperti di bawah ini\n",
    "Tuliskan apa insight yang bisa kamu dapat dari visualisasi tersebut"
   ]
  },
  {
   "cell_type": "code",
   "execution_count": 63,
   "id": "7b268c2d",
   "metadata": {},
   "outputs": [
    {
     "data": {
      "text/plain": [
       "<BarContainer object of 12 artists>"
      ]
     },
     "execution_count": 63,
     "metadata": {},
     "output_type": "execute_result"
    },
    {
     "data": {
      "image/png": "[encoded data removed]",
      "text/plain": [
       "<Figure size 1296x648 with 1 Axes>"
      ]
     },
     "metadata": {
      "needs_background": "light"
     },
     "output_type": "display_data"
    }
   ],
   "source": [
    "x = np.arange (12)\n",
    "y = gen['NA_Sales']\n",
    "y2 = gen['EU_Sales']\n",
    "y3 = gen['JP_Sales']\n",
    "y4 = gen['Other_Sales']\n",
    "\n",
    "\n",
    "\n",
    "fig, ax = plt.subplots(figsize = (18,9))\n",
    "ax.bar(x, y, width = 0.15)\n",
    "ax.bar(x+0.15, y2, width = 0.15)\n",
    "ax.bar(x+0.30, y3, width = 0.15)\n",
    "ax.bar(x+0.36, y4, width = 0.15)\n",
    "\n"
   ]
  },
  {
   "cell_type": "code",
   "execution_count": 70,
   "id": "0aa5edaa",
   "metadata": {},
   "outputs": [
    {
     "name": "stderr",
     "output_type": "stream",
     "text": [
      "/var/folders/xx/dh54cl555214b5yr8zvlfxl00000gn/T/ipykernel_1056/1798135432.py:12: UserWarning: FixedFormatter should only be used together with FixedLocator\n",
      "  ax.set_xticklabels(category, rotation= 90)\n"
     ]
    },
    {
     "data": {
      "image/png": "[encoded data removed]",
      "text/plain": [
       "<Figure size 432x288 with 1 Axes>"
      ]
     },
     "metadata": {
      "needs_background": "light"
     },
     "output_type": "display_data"
    }
   ],
   "source": [
    "import numpy as np\n",
    "import pandas as pd\n",
    "import matplotlib.pyplot as plt\n",
    "\n",
    "df = pd.read_csv('vgsales.csv')\n",
    "gen5 = df['Genre'].value_counts()\n",
    "category = gen5.index\n",
    "frequency = gen5.values\n",
    "\n",
    "fig,ax = plt.subplots()\n",
    "ax.bar(category, frequency)\n",
    "ax.set_xticklabels(category, rotation= 90)\n",
    "plt.show()\n"
   ]
  },
  {
   "cell_type": "code",
   "execution_count": 79,
   "id": "0fca958d",
   "metadata": {},
   "outputs": [
    {
     "data": {
      "image/png": "[encoded data removed]",
      "text/plain": [
       "<Figure size 864x504 with 1 Axes>"
      ]
     },
     "metadata": {
      "needs_background": "light"
     },
     "output_type": "display_data"
    }
   ],
   "source": [
    "import numpy as np\n",
    "import pandas as pd\n",
    "import matplotlib.pyplot as plt\n",
    "\n",
    "df = pd.read_csv('vgsales.csv')\n",
    "df_group = df.groupby('Genre').mean()\n",
    "x = np.arange(12)\n",
    "y = df_group['NA_Sales']\n",
    "y2 = df_group['EU_Sales']\n",
    "y3 = df_group['JP_Sales']\n",
    "y4 = df_group['Other_Sales']\n",
    "y5 = df_group['Global_Sales']\n",
    "\n",
    "fig,ax = plt.subplots(figsize = (12,7))\n",
    "ax.bar(x,y)\n",
    "ax.bar(x,y2)\n",
    "ax.bar(x,y3)\n",
    "ax.bar(x,y4)\n",
    "ax.bar(x,y5)\n",
    "plt.show()\n"
   ]
  },
  {
   "cell_type": "code",
   "execution_count": 103,
   "id": "583d818a",
   "metadata": {},
   "outputs": [
    {
     "data": {
      "image/png": "[encoded data removed]",
      "text/plain": [
       "<Figure size 1152x576 with 1 Axes>"
      ]
     },
     "metadata": {},
     "output_type": "display_data"
    }
   ],
   "source": [
    "plt.style.use ('ggplot')\n",
    "fig, ax = plt.subplots (figsize = (16,8))\n",
    "x = np.arange (0,12,3)\n",
    "x0 = 0\n",
    "\n",
    "for row in df_group.iterrows():\n",
    "    ax.bar (x+x0 , row[1], label = row[0], width = 0.2)\n",
    "    x0 = x0+0.2\n",
    "\n",
    "ax.set_xticks (x+1)\n",
    "ax.set_xticklabels(df_group.columns)\n",
    "                   \n",
    "ax.set_xlabel ('Region sales')\n",
    "ax.set_ylabel ('mean sales')\n",
    "ax.set_title (' mean sales video games by genre')\n",
    "plt.legend()\n",
    "plt.show()                "
   ]
  }
 ],
 "metadata": {
  "kernelspec": {
   "display_name": "Python 3 (ipykernel)",
   "language": "python",
   "name": "python3"
  },
  "language_info": {
   "codemirror_mode": {
    "name": "ipython",
    "version": 3
   },
   "file_extension": ".py",
   "mimetype": "text/x-python",
   "name": "python",
   "nbconvert_exporter": "python",
   "pygments_lexer": "ipython3",
   "version": "3.9.9"
  }
 },
 "nbformat": 4,
 "nbformat_minor": 5
}
